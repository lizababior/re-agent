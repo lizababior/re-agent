{
 "cells": [
  {
   "cell_type": "code",
   "execution_count": 18,
   "id": "6554fd4c",
   "metadata": {},
   "outputs": [],
   "source": [
    "import os\n",
    "import chromadb\n",
    "import uuid\n",
    "from dotenv import load_dotenv\n",
    "from langchain_openai import ChatOpenAI\n",
    "from langchain.prompts import PromptTemplate\n",
    "from langchain_core.runnables import RunnableSequence\n",
    "from pydantic import BaseModel, Field\n",
    "from typing import List\n",
    "from chromadb.utils import embedding_functions\n",
    "\n",
    "\n",
    "load_dotenv()\n",
    "\n",
    "NUMBER_OF_LISTINGS = 15\n"
   ]
  },
  {
   "cell_type": "code",
   "execution_count": 2,
   "id": "456a2ea6",
   "metadata": {},
   "outputs": [],
   "source": [
    "llm = ChatOpenAI(\n",
    "    model=\"gpt-4o\",\n",
    "    temperature=0,\n",
    "    max_tokens=None,\n",
    "    timeout=None,\n",
    "    max_retries=2,\n",
    "    api_key=os.environ[\"OPENAI_API_KEY\"],\n",
    "    base_url=os.environ[\"OPENAI_API_BASE\"]\n",
    ")"
   ]
  },
  {
   "cell_type": "markdown",
   "id": "0e338d15",
   "metadata": {},
   "source": [
    "## Generating listings\n",
    "Generate real estate listings using a Large Language Model. Generate at least 10 listings This can involve creating prompts for the LLM to produce descriptions of various properties. You'll use these listings to populate the database for testing and development of \"HomeMatch\".\n",
    "An example of a listing might be:\n",
    "```Neighborhood: Green Oaks\n",
    "Price: $800,000\n",
    "Bedrooms: 3\n",
    "Bathrooms: 2\n",
    "House Size: 2,000 sqft\n",
    "\n",
    "Description: Welcome to this eco-friendly oasis nestled in the heart of Green Oaks. This charming 3-bedroom, 2-bathroom home boasts energy-efficient features such as solar panels and a well-insulated structure. Natural light floods the living spaces, highlighting the beautiful hardwood floors and eco-conscious finishes. The open-concept kitchen and dining area lead to a spacious backyard with a vegetable garden, perfect for the eco-conscious family. Embrace sustainable living without compromising on style in this Green Oaks gem.\n",
    "\n",
    "Neighborhood Description: Green Oaks is a close-knit, environmentally-conscious community with access to organic grocery stores, community gardens, and bike paths. Take a stroll through the nearby Green Oaks Park or grab a cup of coffee at the cozy Green Bean Cafe. With easy access to public transportation and bike lanes, commuting is a breeze.\n",
    "```"
   ]
  },
  {
   "cell_type": "code",
   "execution_count": 3,
   "id": "bc3ee4f3",
   "metadata": {},
   "outputs": [],
   "source": [
    "# Simple PyDantic model for real estate listings\n",
    "\n",
    "class Listing(BaseModel):\n",
    "    '''Real estate listing model'''\n",
    "    id: str = Field(default_factory=lambda: str(uuid.uuid4()), description=\"Unique identifier for the listing\")\n",
    "    neighborhood: str = Field(description=\"The area where the property is located\")\n",
    "    price: int = Field(description=\"The price of the property\")\n",
    "    bedrooms: int = Field(description=\"Number of bedrooms in the property\")\n",
    "    bathrooms: int = Field(description=\"Number of bathrooms in the property\")\n",
    "    house_size: int = Field(description=\"Size of the property in square feet\")\n",
    "    description: str = Field(description=\"Description of the property\")\n",
    "    neighborhood_description: str = Field(description=\"Description of the neighborhood\")\n",
    "    \n",
    "    def to_text(self):\n",
    "        \"\"\"Convert to searchable text format\"\"\"\n",
    "        return f\"\"\"Neighborhood: {self.neighborhood}\n",
    "        Price: ${self.price:,}\n",
    "        Bedrooms: {self.bedrooms}\n",
    "        Bathrooms: {self.bathrooms}\n",
    "        House Size: {self.house_size} sqft\n",
    "        Description: {self.description}\n",
    "        Neighborhood Description: {self.neighborhood_description}\"\"\"\n",
    "        \n",
    "class Listings(BaseModel):\n",
    "    \"\"\"List of real estate listings\"\"\"\n",
    "    listings: List[Listing]"
   ]
  },
  {
   "cell_type": "code",
   "execution_count": 5,
   "id": "4fe4d42e",
   "metadata": {},
   "outputs": [],
   "source": [
    "listing1 = Listing(\n",
    "    id=str(uuid.uuid4()),\n",
    "    neighborhood=\"Green Oaks\",\n",
    "    price=800000,\n",
    "    bedrooms=3,\n",
    "    bathrooms=2,\n",
    "    house_size=2000,\n",
    "    description=\"Welcome to this eco-friendly oasis nestled in the heart of Green Oaks. This charming 3-bedroom, 2-bathroom home boasts energy-efficient features such as solar panels and a well-insulated structure.\",\n",
    "    neighborhood_description=\"Green Oaks is a close-knit, environmentally-conscious community with access to organic grocery stores, community gardens, and bike paths.\"\n",
    ")\n",
    "\n",
    "listing2 = Listing(\n",
    "    id=str(uuid.uuid4()),\n",
    "    neighborhood=\"Downtown\",\n",
    "    price=1200000,\n",
    "    bedrooms=4,\n",
    "    bathrooms=3,\n",
    "    house_size=3200,\n",
    "    description=\"Luxurious downtown penthouse with panoramic city views. This modern 4-bedroom, 3.5-bathroom unit features high-end appliances, marble countertops, and smart home technology.\",\n",
    "    neighborhood_description=\"Downtown offers vibrant nightlife, top restaurants, and cultural attractions within walking distance.\"\n",
    ")"
   ]
  },
  {
   "cell_type": "code",
   "execution_count": 6,
   "id": "df8cc19b",
   "metadata": {},
   "outputs": [],
   "source": [
    "structured_llm = llm.with_structured_output(Listings)\n",
    "response = structured_llm.invoke(\"Generate 15 real estate listings. Make sure to include a variety of neighborhoods, price ranges, and property types.\")"
   ]
  },
  {
   "cell_type": "code",
   "execution_count": 7,
   "id": "680c358e",
   "metadata": {},
   "outputs": [
    {
     "data": {
      "text/plain": [
       "[Listing(id='c42c6ea1-b72d-47f1-9f25-ce2844609644', neighborhood='Downtown', price=750000, bedrooms=2, bathrooms=2, house_size=1200, description='Modern condo with city views and open floor plan.', neighborhood_description='Vibrant urban area with nightlife, dining, and shopping.'),\n",
       " Listing(id='8bd51a88-9440-4d50-a274-9f1a75d44bd6', neighborhood='Suburbia', price=450000, bedrooms=3, bathrooms=2, house_size=1800, description='Charming single-family home with a large backyard.', neighborhood_description='Quiet residential area with parks and good schools.'),\n",
       " Listing(id='5a9ba167-bbf6-4ccf-b40b-efd27393d31c', neighborhood='Beachside', price=1200000, bedrooms=4, bathrooms=3, house_size=2500, description='Luxury beachfront property with stunning ocean views.', neighborhood_description='Coastal area known for its beaches and water activities.'),\n",
       " Listing(id='932b1e89-30ed-4f88-9d56-0960cd0cf189', neighborhood='Historic District', price=600000, bedrooms=3, bathrooms=2, house_size=1600, description='Beautifully restored Victorian home with original features.', neighborhood_description='Area rich in history with museums and historic landmarks.'),\n",
       " Listing(id='83513fb6-0ae3-485a-be9d-6298897febb2', neighborhood='Countryside', price=350000, bedrooms=4, bathrooms=3, house_size=2200, description='Spacious farmhouse with modern amenities and land.', neighborhood_description='Rural area with farms, open spaces, and nature trails.'),\n",
       " Listing(id='cd05136c-87dd-45d8-bc99-ffbfb795673b', neighborhood='Uptown', price=800000, bedrooms=3, bathrooms=2, house_size=2000, description='Elegant townhouse with rooftop terrace and city views.', neighborhood_description='Trendy area with boutiques, cafes, and cultural venues.'),\n",
       " Listing(id='fd63ec06-2c89-4e10-84ad-157afbfc9528', neighborhood='Lakeview', price=950000, bedrooms=5, bathrooms=4, house_size=3000, description='Expansive home with private dock and lake access.', neighborhood_description='Scenic area with lakes, parks, and outdoor activities.'),\n",
       " Listing(id='b23e82b5-deca-4f7b-b9c0-7a54fc3573dd', neighborhood='Midtown', price=500000, bedrooms=2, bathrooms=2, house_size=1300, description='Contemporary apartment with modern finishes and amenities.', neighborhood_description='Central location with easy access to public transportation.'),\n",
       " Listing(id='2da40e1e-7858-4fa6-ad2f-83e8e1fb9b01', neighborhood='Old Town', price=550000, bedrooms=3, bathrooms=2, house_size=1700, description='Charming cottage with a garden and vintage appeal.', neighborhood_description='Historic area with cobblestone streets and local shops.'),\n",
       " Listing(id='cc0d72e7-f156-4d58-a09a-55bc7a34c61c', neighborhood='Mountain View', price=1100000, bedrooms=4, bathrooms=3, house_size=2800, description='Stunning chalet with panoramic mountain views.', neighborhood_description='Picturesque area known for hiking, skiing, and nature.'),\n",
       " Listing(id='ab0e7ce8-46f5-437d-9499-ae138b628ca1', neighborhood='Riverside', price=700000, bedrooms=3, bathrooms=2, house_size=1900, description='Modern home with river views and a spacious deck.', neighborhood_description='Peaceful area with river walks and outdoor dining.'),\n",
       " Listing(id='57b1e4c1-8a60-4375-8d7d-ef64e5417e51', neighborhood='Greenfield', price=400000, bedrooms=3, bathrooms=2, house_size=1500, description='Eco-friendly home with solar panels and green features.', neighborhood_description='Suburban area with community gardens and green spaces.'),\n",
       " Listing(id='b908186a-d221-4a8b-a52d-291c88585845', neighborhood='City Center', price=650000, bedrooms=2, bathrooms=2, house_size=1400, description='Luxury apartment with high-end finishes and city amenities.', neighborhood_description='Bustling area with business centers and entertainment.'),\n",
       " Listing(id='f8ca3215-d0c3-4793-be72-6f952466af5b', neighborhood='Seaside', price=1300000, bedrooms=5, bathrooms=4, house_size=3200, description='Exclusive villa with private beach access and pool.', neighborhood_description='Prestigious area with luxury resorts and oceanfront dining.'),\n",
       " Listing(id='674ec2d3-ac6e-46e7-a99f-af921adc58d2', neighborhood='Forest Hills', price=550000, bedrooms=3, bathrooms=2, house_size=1800, description='Cozy home surrounded by trees and nature trails.', neighborhood_description='Wooded area with parks, wildlife, and outdoor activities.')]"
      ]
     },
     "execution_count": 7,
     "metadata": {},
     "output_type": "execute_result"
    }
   ],
   "source": [
    "response.listings"
   ]
  },
  {
   "cell_type": "markdown",
   "id": "8c58bf34",
   "metadata": {},
   "source": [
    "## Storing Listings in a Vector Database"
   ]
  },
  {
   "cell_type": "code",
   "execution_count": 8,
   "id": "975061d2",
   "metadata": {},
   "outputs": [],
   "source": [
    "# chroma_client.delete_collection(\"listings\")"
   ]
  },
  {
   "cell_type": "code",
   "execution_count": 9,
   "id": "8d2fe2da",
   "metadata": {},
   "outputs": [],
   "source": [
    "chroma_client = chromadb.Client()\n",
    "\n",
    "default_ef = embedding_functions.DefaultEmbeddingFunction()\n",
    "\n",
    "listings_collection = chroma_client.create_collection(\n",
    "    name=\"listings\",\n",
    "    embedding_function=default_ef\n",
    ")"
   ]
  },
  {
   "cell_type": "code",
   "execution_count": 10,
   "id": "8fb34274",
   "metadata": {},
   "outputs": [],
   "source": [
    "documents = [listing.to_text() for listing in response.listings]\n",
    "ids = [str(uuid.uuid4()) for _ in response.listings]\n",
    "\n",
    "listings_collection.add(\n",
    "    documents=documents,\n",
    "    ids=ids\n",
    ")"
   ]
  },
  {
   "cell_type": "code",
   "execution_count": 11,
   "id": "163bdecf",
   "metadata": {},
   "outputs": [
    {
     "name": "stdout",
     "output_type": "stream",
     "text": [
      "{'ids': ['a0972e56-27c8-44ea-9657-edc714810655', 'c32f34a6-1640-42de-96e1-0b0e9422b094', '1aab7787-e775-4b41-8425-3a3f5ac0e416', '9f5506ae-7716-4d57-b449-38c07efddb68', '27958a8b-b491-4f91-b08f-dd157d2348e9', 'fa668b0e-c63e-4989-840b-479cd6452cce', 'f443030e-5c96-457b-ad1c-18b21853bdf8', 'b8faee54-ef9e-4f6a-ac57-32f34e0ab9f3', 'c986827a-0f8c-4c03-9676-f747371521f5', '84bb5fff-25a6-4cb4-bb49-9c55234b9c0d', '3a91faac-724b-4c4d-be48-9144cdf0e468', '9477abef-4342-4a8f-8958-76d29f2561f2', '55862e3d-5c44-4b2c-a3ab-375d6864e8e1', 'e0f8d259-b907-4d3c-b8c0-00cd3a8968d3', '9607574d-84c5-410a-94d1-672de05ece9c'], 'embeddings': array([[ 0.13982712, -0.06268502,  0.01222483, ..., -0.00989543,\n",
      "        -0.10547148,  0.02649353],\n",
      "       [ 0.15418164, -0.04593146,  0.02412212, ...,  0.02151575,\n",
      "        -0.13380758,  0.01679743],\n",
      "       [ 0.15488228, -0.01966279,  0.03117318, ..., -0.00581289,\n",
      "        -0.12166493,  0.05050588],\n",
      "       ...,\n",
      "       [ 0.11009039, -0.05094731,  0.0213808 , ..., -0.0153947 ,\n",
      "        -0.13196604,  0.04852671],\n",
      "       [ 0.12142751, -0.06018743, -0.02641249, ...,  0.02508245,\n",
      "        -0.162515  ,  0.04286273],\n",
      "       [ 0.07782117, -0.01167696, -0.01818364, ..., -0.1016479 ,\n",
      "        -0.11502843, -0.06678773]]), 'documents': None, 'uris': None, 'included': ['embeddings'], 'data': None, 'metadatas': None}\n"
     ]
    }
   ],
   "source": [
    "print(listings_collection.get(include=['embeddings']))"
   ]
  },
  {
   "cell_type": "code",
   "execution_count": 12,
   "id": "a0a2a7d3",
   "metadata": {},
   "outputs": [
    {
     "name": "stdout",
     "output_type": "stream",
     "text": [
      "{'ids': [['9477abef-4342-4a8f-8958-76d29f2561f2', 'c986827a-0f8c-4c03-9676-f747371521f5', 'c32f34a6-1640-42de-96e1-0b0e9422b094']], 'embeddings': None, 'documents': [['Neighborhood: Greenfield\\n        Price: $400,000\\n        Bedrooms: 3\\n        Bathrooms: 2\\n        House Size: 1500 sqft\\n        Description: Eco-friendly home with solar panels and green features.\\n        Neighborhood Description: Suburban area with community gardens and green spaces.', 'Neighborhood: Old Town\\n        Price: $550,000\\n        Bedrooms: 3\\n        Bathrooms: 2\\n        House Size: 1700 sqft\\n        Description: Charming cottage with a garden and vintage appeal.\\n        Neighborhood Description: Historic area with cobblestone streets and local shops.', 'Neighborhood: Suburbia\\n        Price: $450,000\\n        Bedrooms: 3\\n        Bathrooms: 2\\n        House Size: 1800 sqft\\n        Description: Charming single-family home with a large backyard.\\n        Neighborhood Description: Quiet residential area with parks and good schools.']], 'uris': None, 'included': ['metadatas', 'documents', 'distances'], 'data': None, 'metadatas': [[None, None, None]], 'distances': [[1.0541877746582031, 1.085055947303772, 1.0977349281311035]]}\n"
     ]
    }
   ],
   "source": [
    "results = listings_collection.query(\n",
    "    query_texts=[\"I'm looking for a modern home in a vibrant neighborhood with good schools.\"],\n",
    "    n_results=3\n",
    ")\n",
    "print(results)"
   ]
  },
  {
   "cell_type": "markdown",
   "id": "8ea870c8",
   "metadata": {},
   "source": [
    "## Building User Preference Interface"
   ]
  },
  {
   "cell_type": "code",
   "execution_count": 13,
   "id": "1d544b99",
   "metadata": {},
   "outputs": [],
   "source": [
    "questions = [   \n",
    "    \"How big do you want your house to be?\" \n",
    "    \"What are 3 most important things for you in choosing this property?\", \n",
    "    \"Which amenities would you like?\", \n",
    "    \"Which transportation options are important to you?\",\n",
    "    \"How urban do you want your neighborhood to be?\",   \n",
    "]\n",
    "\n",
    "answers = [\n",
    "    \"A comfortable three-bedroom house with a spacious kitchen and a cozy living room.\",\n",
    "    \"A quiet neighborhood, good local schools, and convenient shopping options.\",\n",
    "    \"A backyard for gardening, a two-car garage, and a modern, energy-efficient heating system.\",\n",
    "    \"Easy access to a reliable bus line, proximity to a major highway, and bike-friendly roads.\",\n",
    "    \"A balance between suburban tranquility and access to urban amenities like restaurants and theaters.\"\n",
    "]"
   ]
  },
  {
   "cell_type": "code",
   "execution_count": 19,
   "id": "5dcbd670",
   "metadata": {},
   "outputs": [],
   "source": [
    "# Buyer Preference Parsing:\n",
    "buyer_input = \" \".join(answers)\n",
    "\n",
    "template = \"\"\"\n",
    "Extract structured buyer preferences from the following input:\n",
    "{buyer_input}\n",
    "\n",
    "Return it as a structured summary for in the following format:\n",
    "    id: str = Field(default_factory=lambda: str(uuid.uuid4()), description=\"Unique identifier for the listing\")\n",
    "    neighborhood: str = Field(description=\"The area where the property is located\")\n",
    "    price: int = Field(description=\"The price of the property\")\n",
    "    bedrooms: int = Field(description=\"Number of bedrooms in the property\")\n",
    "    bathrooms: float = Field(description=\"Number of bathrooms in the property\")\n",
    "    house_size: int = Field(description=\"Size of the property in square feet\")\n",
    "    description: str = Field(description=\"Description of the property\")\n",
    "    neighborhood_description: str = Field(description=\"Description of the neighborhood\") \n",
    "    \n",
    "If smth is missing, remove it for the output.\n",
    "\"\"\"\n",
    "prompt = PromptTemplate.from_template(template)\n",
    "chain = prompt | llm\n",
    "structured_preferences = chain.invoke({\"buyer_input\": buyer_input})"
   ]
  },
  {
   "cell_type": "code",
   "execution_count": null,
   "id": "8edda90f",
   "metadata": {},
   "outputs": [
    {
     "data": {
      "text/plain": [
       "str"
      ]
     },
     "execution_count": 23,
     "metadata": {},
     "output_type": "execute_result"
    }
   ],
   "source": [
    "structured_preferences.content"
   ]
  },
  {
   "cell_type": "markdown",
   "id": "514b4d15",
   "metadata": {},
   "source": [
    "## Searching Based on Preferences"
   ]
  },
  {
   "cell_type": "code",
   "execution_count": null,
   "id": "ee83ae05",
   "metadata": {},
   "outputs": [
    {
     "name": "stdout",
     "output_type": "stream",
     "text": [
      "{'ids': [['c32f34a6-1640-42de-96e1-0b0e9422b094', 'fa668b0e-c63e-4989-840b-479cd6452cce', '9477abef-4342-4a8f-8958-76d29f2561f2']], 'embeddings': None, 'documents': [['Neighborhood: Suburbia\\n        Price: $450,000\\n        Bedrooms: 3\\n        Bathrooms: 2\\n        House Size: 1800 sqft\\n        Description: Charming single-family home with a large backyard.\\n        Neighborhood Description: Quiet residential area with parks and good schools.', 'Neighborhood: Uptown\\n        Price: $800,000\\n        Bedrooms: 3\\n        Bathrooms: 2\\n        House Size: 2000 sqft\\n        Description: Elegant townhouse with rooftop terrace and city views.\\n        Neighborhood Description: Trendy area with boutiques, cafes, and cultural venues.', 'Neighborhood: Greenfield\\n        Price: $400,000\\n        Bedrooms: 3\\n        Bathrooms: 2\\n        House Size: 1500 sqft\\n        Description: Eco-friendly home with solar panels and green features.\\n        Neighborhood Description: Suburban area with community gardens and green spaces.']], 'uris': None, 'included': ['metadatas', 'documents', 'distances'], 'data': None, 'metadatas': [[None, None, None]], 'distances': [[1.287261724472046, 1.353858470916748, 1.3568997383117676]]}\n"
     ]
    }
   ],
   "source": [
    "# Semantic Search\n",
    "results = listings_collection.query(\n",
    "    query_texts=[structured_preferences.content],\n",
    "    n_results=3\n",
    ")\n",
    "print(results)"
   ]
  },
  {
   "cell_type": "code",
   "execution_count": null,
   "id": "ef94579f",
   "metadata": {},
   "outputs": [
    {
     "data": {
      "text/plain": [
       "{'ids': ['c32f34a6-1640-42de-96e1-0b0e9422b094',\n",
       "  'fa668b0e-c63e-4989-840b-479cd6452cce',\n",
       "  '9477abef-4342-4a8f-8958-76d29f2561f2'],\n",
       " 'embeddings': None,\n",
       " 'documents': ['Neighborhood: Suburbia\\n        Price: $450,000\\n        Bedrooms: 3\\n        Bathrooms: 2\\n        House Size: 1800 sqft\\n        Description: Charming single-family home with a large backyard.\\n        Neighborhood Description: Quiet residential area with parks and good schools.',\n",
       "  'Neighborhood: Uptown\\n        Price: $800,000\\n        Bedrooms: 3\\n        Bathrooms: 2\\n        House Size: 2000 sqft\\n        Description: Elegant townhouse with rooftop terrace and city views.\\n        Neighborhood Description: Trendy area with boutiques, cafes, and cultural venues.',\n",
       "  'Neighborhood: Greenfield\\n        Price: $400,000\\n        Bedrooms: 3\\n        Bathrooms: 2\\n        House Size: 1500 sqft\\n        Description: Eco-friendly home with solar panels and green features.\\n        Neighborhood Description: Suburban area with community gardens and green spaces.'],\n",
       " 'uris': None,\n",
       " 'included': ['documents'],\n",
       " 'data': None,\n",
       " 'metadatas': None}"
      ]
     },
     "execution_count": 27,
     "metadata": {},
     "output_type": "execute_result"
    }
   ],
   "source": [
    "# Listing Retrieval\n",
    "matching_listings = listings_collection.get(ids=results['ids'][0], include=['documents'])\n",
    "matching_listings\n"
   ]
  },
  {
   "cell_type": "code",
   "execution_count": 29,
   "id": "f0365284",
   "metadata": {},
   "outputs": [],
   "source": [
    "# 1. Prepare your input text\n",
    "documents_text = \"\\n\\n\".join(matching_listings[\"documents\"])\n",
    "\n",
    "# 2. Set up the LLM with structured output\n",
    "structured_llm = llm.with_structured_output(Listings)\n",
    "\n",
    "# 3. Call the LLM\n",
    "listings_obj = structured_llm.invoke(\n",
    "    f\"\"\"Parse the following real estate listings and convert them into structured data.\n",
    "\n",
    "Each listing contains details like neighborhood, price, bedrooms, bathrooms, house size, description, and neighborhood description.\n",
    "\n",
    "Listings:\n",
    "{documents_text}\n",
    "\"\"\"\n",
    ")"
   ]
  },
  {
   "cell_type": "code",
   "execution_count": 30,
   "id": "f77e0a09",
   "metadata": {},
   "outputs": [
    {
     "data": {
      "text/plain": [
       "Listings(listings=[Listing(id='2588738a-9682-427f-ba1a-24ac9a8ffdc2', neighborhood='Suburbia', price=450000, bedrooms=3, bathrooms=2, house_size=1800, description='Charming single-family home with a large backyard.', neighborhood_description='Quiet residential area with parks and good schools.'), Listing(id='567a1e00-d1bb-407c-a23d-821c2598bcae', neighborhood='Uptown', price=800000, bedrooms=3, bathrooms=2, house_size=2000, description='Elegant townhouse with rooftop terrace and city views.', neighborhood_description='Trendy area with boutiques, cafes, and cultural venues.'), Listing(id='bb9bf25a-38f2-4367-8c96-e97f3ab04f3d', neighborhood='Greenfield', price=400000, bedrooms=3, bathrooms=2, house_size=1500, description='Eco-friendly home with solar panels and green features.', neighborhood_description='Suburban area with community gardens and green spaces.')])"
      ]
     },
     "execution_count": 30,
     "metadata": {},
     "output_type": "execute_result"
    }
   ],
   "source": [
    "listings_obj"
   ]
  },
  {
   "cell_type": "markdown",
   "id": "de178702",
   "metadata": {},
   "source": [
    "## Personalizing Listing Descriptions"
   ]
  },
  {
   "cell_type": "code",
   "execution_count": null,
   "id": "28452e63",
   "metadata": {},
   "outputs": [],
   "source": [
    "personalized_descriptions = []\n",
    "\n",
    "for listing in listings_obj.listings:\n",
    "    prompt = f\"\"\"\n",
    "You are a helpful assistant helping match homes to buyers.\n",
    "\n",
    "The buyer has expressed these preferences:\n",
    "{structured_preferences.content}\n",
    "\n",
    "Here is a listing:\n",
    "Neighborhood: {listing.neighborhood}\n",
    "Price: ${listing.price}\n",
    "Bedrooms: {listing.bedrooms}\n",
    "Bathrooms: {listing.bathrooms}\n",
    "House Size: {listing.house_size} sqft\n",
    "Description: {listing.description}\n",
    "Neighborhood Description: {listing.neighborhood_description}\n",
    "\n",
    "Your task is to rewrite or enhance the property description in a way that highlights the features most aligned with the buyer’s preferences. Do not change any factual information.\n",
    "\n",
    "Respond with just the improved listing description.\n",
    "\"\"\"\n",
    "\n",
    "personalized_description = llm.invoke(prompt)\n",
    "personalized_descriptions.append((listing, personalized_description))"
   ]
  },
  {
   "cell_type": "code",
   "execution_count": 34,
   "id": "5072e1a6",
   "metadata": {},
   "outputs": [
    {
     "name": "stdout",
     "output_type": "stream",
     "text": [
      "🏡 Suburbia — $450000\n",
      "Charming single-family home featuring three bedrooms and two bathrooms, perfect for comfortable living. Enjoy a spacious kitchen and a cozy living room, ideal for family gatherings. The property boasts a large backyard, perfect for gardening enthusiasts, and includes a two-car garage. Located in a quiet residential area with parks and good schools, this home offers easy access to a reliable bus line and proximity to a major highway. Experience the balance between suburban tranquility and urban amenities, with convenient shopping options and bike-friendly roads. The home is equipped with a modern, energy-efficient heating system, ensuring comfort and sustainability.\n",
      "\n",
      "🏡 Uptown — $800000\n",
      "Elegant three-bedroom townhouse with a rooftop terrace offering stunning city views. This home features a spacious kitchen and a cozy living room, perfect for comfortable living. Located in a trendy neighborhood, it provides easy access to boutiques, cafes, and cultural venues, while maintaining a balance between urban amenities and suburban tranquility. Enjoy the convenience of nearby shopping options and reliable public transportation, with bike-friendly roads and proximity to a major highway.\n",
      "\n",
      "🏡 Greenfield — $400000\n",
      "A comfortable three-bedroom eco-friendly home featuring solar panels and green features. Enjoy a spacious kitchen and a cozy living room, perfect for family gatherings. The property includes a backyard ideal for gardening enthusiasts and a two-car garage. Located in a quiet suburban area with community gardens and green spaces, this home offers a modern, energy-efficient heating system. Benefit from good local schools, convenient shopping options, and easy access to a reliable bus line, major highway, and bike-friendly roads. Experience a balance between suburban tranquility and urban amenities like restaurants and theaters.\n",
      "\n"
     ]
    }
   ],
   "source": [
    "for listing, description in personalized_descriptions:\n",
    "    print(f\"🏡 {listing.neighborhood} — ${listing.price}\")\n",
    "    print(f\"{description.content}\\n\")"
   ]
  }
 ],
 "metadata": {
  "kernelspec": {
   "display_name": ".venv",
   "language": "python",
   "name": "python3"
  },
  "language_info": {
   "codemirror_mode": {
    "name": "ipython",
    "version": 3
   },
   "file_extension": ".py",
   "mimetype": "text/x-python",
   "name": "python",
   "nbconvert_exporter": "python",
   "pygments_lexer": "ipython3",
   "version": "3.13.1"
  }
 },
 "nbformat": 4,
 "nbformat_minor": 5
}
